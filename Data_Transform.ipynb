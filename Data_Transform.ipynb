{
  "nbformat": 4,
  "nbformat_minor": 0,
  "metadata": {
    "colab": {
      "provenance": [],
      "authorship_tag": "ABX9TyP9iIxR1c17L56kdyamU+5j",
      "include_colab_link": true
    },
    "kernelspec": {
      "name": "python3",
      "display_name": "Python 3"
    },
    "language_info": {
      "name": "python"
    }
  },
  "cells": [
    {
      "cell_type": "markdown",
      "metadata": {
        "id": "view-in-github",
        "colab_type": "text"
      },
      "source": [
        "<a href=\"https://colab.research.google.com/github/Prerna0025/Diffusion-model-with-GNN/blob/main/Data_Transform.ipynb\" target=\"_parent\"><img src=\"https://colab.research.google.com/assets/colab-badge.svg\" alt=\"Open In Colab\"/></a>"
      ]
    },
    {
      "cell_type": "code",
      "execution_count": null,
      "metadata": {
        "id": "KDwpWvWFbtnX"
      },
      "outputs": [],
      "source": []
    },
    {
      "cell_type": "markdown",
      "source": [
        "PyG has its own transform, which take **Data** object as input and return a new tranformed **Data**\n",
        "\n",
        "For Data trasform we will work on below dataset:\\\n",
        " -- **Dataset**: ShapeNet \\\n",
        "\n",
        "-- It has 17,000 3D shape point clouds and per point labels from 16 shape categories.\n",
        "\n"
      ],
      "metadata": {
        "id": "AntR8Tzrcf4z"
      }
    },
    {
      "cell_type": "code",
      "source": [],
      "metadata": {
        "id": "86i3nzXdc-iM"
      },
      "execution_count": null,
      "outputs": []
    }
  ]
}